{
 "cells": [
  {
   "cell_type": "code",
   "execution_count": 67,
   "metadata": {},
   "outputs": [],
   "source": [
    "import pandas as pd\n",
    "import numpy as np\n",
    "import pickle\n",
    "import copy"
   ]
  },
  {
   "cell_type": "code",
   "execution_count": 52,
   "metadata": {},
   "outputs": [
    {
     "name": "stderr",
     "output_type": "stream",
     "text": [
      "C:\\Users\\ctata\\Miniconda3\\envs\\tensorflow\\lib\\site-packages\\IPython\\core\\interactiveshell.py:2785: DtypeWarning: Columns (0,81) have mixed types. Specify dtype option on import or set low_memory=False.\n",
      "  interactivity=interactivity, compiler=compiler, result=result)\n"
     ]
    }
   ],
   "source": [
    "err_qid = pd.read_csv(\"C:/Users/ctata/Documents/Lab/public_data/AGP/err-to-qid.txt\", delimiter = \"\\t\")\n",
    "mapping = pd.read_csv(\"C:/Users/ctata/Documents/Lab/public_data/AGP/04-meta/ag-cleaned.txt\", sep = \"\\t\", index_col=0)"
   ]
  },
  {
   "cell_type": "code",
   "execution_count": 53,
   "metadata": {},
   "outputs": [],
   "source": [
    "mapping\n",
    "map_merged = mapping.merge(err_qid, how = 'inner', left_on = \"#SampleID\", right_on = \"sample_title\")\n",
    "map_merged = map_merged.set_index('run_accession')"
   ]
  },
  {
   "cell_type": "code",
   "execution_count": 58,
   "metadata": {},
   "outputs": [
    {
     "data": {
      "text/plain": [
       "<function BufferedWriter.close>"
      ]
     },
     "execution_count": 58,
     "metadata": {},
     "output_type": "execute_result"
    }
   ],
   "source": [
    "f = open(\"C:/Users/ctata/Documents/Lab/public_data/AGP/04-meta/map_err.obj\", 'wb')\n",
    "pickle.dump(map_merged, f)\n",
    "f.close\n"
   ]
  },
  {
   "cell_type": "code",
   "execution_count": 70,
   "metadata": {},
   "outputs": [],
   "source": [
    "map_stool = map_merged.loc[map_merged['HMP_SITE'] == \"FECAL\", :]\n",
    "\n",
    "keep = [( (i != \"Unknown\") and (i != \"Unspecified\") and (i!=\"other\" ) and (i != \"unspecified\") and (isinstance(i, str)) )  for i in map_stool['IBD']] \n",
    "map_stool = map_stool.loc[keep, :]\n",
    "map_correct = map_stool\n",
    "\n",
    "def makeNumeric(var, dictionary, mapping, map_correct):\n",
    "    map_correct[var] = [dictionary[i] for i in mapping[var]]\n",
    "    return(map_correct)\n",
    "\n",
    "ibd_dict = {'I do not have this condition':0, 'Self-diagnosed':1, \n",
    "            'Diagnosed by a medical professional (doctor, physician assistant)':1,\n",
    "            'Diagnosed by an alternative medicine practitioner':1}\n",
    "map_correct = makeNumeric(\"IBD\", ibd_dict, map_stool, map_correct)\n",
    "\n"
   ]
  },
  {
   "cell_type": "code",
   "execution_count": 73,
   "metadata": {},
   "outputs": [
    {
     "data": {
      "text/plain": [
       "(11393, 528)"
      ]
     },
     "execution_count": 73,
     "metadata": {},
     "output_type": "execute_result"
    }
   ],
   "source": [
    "np.sum(map_correct['IBD'])\n",
    "map_correct.shape"
   ]
  }
 ],
 "metadata": {
  "kernelspec": {
   "display_name": "Python 3",
   "language": "python",
   "name": "python3"
  },
  "language_info": {
   "codemirror_mode": {
    "name": "ipython",
    "version": 3
   },
   "file_extension": ".py",
   "mimetype": "text/x-python",
   "name": "python",
   "nbconvert_exporter": "python",
   "pygments_lexer": "ipython3",
   "version": "3.5.5"
  }
 },
 "nbformat": 4,
 "nbformat_minor": 2
}
